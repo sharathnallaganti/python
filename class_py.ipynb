{
  "cells": [
    {
      "cell_type": "markdown",
      "metadata": {
        "id": "view-in-github",
        "colab_type": "text"
      },
      "source": [
        "<a href=\"https://colab.research.google.com/github/sharathnallaganti/python/blob/main/class_py.ipynb\" target=\"_parent\"><img src=\"https://colab.research.google.com/assets/colab-badge.svg\" alt=\"Open In Colab\"/></a>"
      ]
    },
    {
      "cell_type": "code",
      "source": [
        "class computer:\n",
        "\n",
        "    def __init__(self,gen,ram,rom):\n",
        "      self.gen= gen\n",
        "      self.ram= ram\n",
        "      self.rom= rom\n",
        "\n",
        "    def config(self):\n",
        "        print(\"config\",self.gen, self.ram, self.rom)\n",
        "\n",
        "comp1 = computer(\"i5\",\"RAM: 18 GB\",\"ROM : 1 TB\")\n",
        "comp2 = computer(\"i7\",\"RAM: 10 GB\",\"ROM : 500 GB\")\n",
        "\n",
        "\n",
        "comp1.config()\n",
        "comp2.config()"
      ],
      "metadata": {
        "id": "oyOhbHEL12BN",
        "outputId": "c5e5e5d3-6a49-4e0c-a3d3-9d90d30e1c56",
        "colab": {
          "base_uri": "https://localhost:8080/"
        }
      },
      "execution_count": null,
      "outputs": [
        {
          "output_type": "stream",
          "name": "stdout",
          "text": [
            "config i5 RAM: 18 GB ROM : 1 TB\n",
            "config i7 RAM: 10 GB ROM : 500 GB\n"
          ]
        }
      ]
    }
  ],
  "metadata": {
    "colab": {
      "toc_visible": true,
      "provenance": [],
      "gpuType": "T4",
      "include_colab_link": true
    },
    "kernelspec": {
      "display_name": "Python 3",
      "name": "python3"
    },
    "accelerator": "GPU"
  },
  "nbformat": 4,
  "nbformat_minor": 0
}