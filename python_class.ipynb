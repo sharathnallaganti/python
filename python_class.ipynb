{
  "cells": [
    {
      "cell_type": "markdown",
      "metadata": {
        "id": "view-in-github",
        "colab_type": "text"
      },
      "source": [
        "<a href=\"https://colab.research.google.com/github/sharathnallaganti/python/blob/main/python_class.ipynb\" target=\"_parent\"><img src=\"https://colab.research.google.com/assets/colab-badge.svg\" alt=\"Open In Colab\"/></a>"
      ]
    },
    {
      "cell_type": "code",
      "source": [
        "class computer:\n",
        "    def config(self):\n",
        "        print(\"i5\",\"RAM: 18 GB\",\"ROM : 1TB\")\n",
        "\n",
        "comp1=computer()\n",
        "computer.config(comp1)\n",
        "\n",
        "comp1.config() # this is the way we usually use in coding\n",
        "\n",
        "\n",
        "\n",
        "\n",
        "\n",
        "# __init_() method\n",
        "\n",
        "class computer:\n",
        "\n",
        "    def __init__(self,gen,ram,rom):\n",
        "      self.gen= gen\n",
        "      self.ram= ram\n",
        "      self.rom= rom\n",
        "\n",
        "    def config(self):\n",
        "        print(\"config\",self.gen, self.ram, self.rom)\n",
        "\n",
        "comp1 = computer(\"i5\",\"RAM: 18 GB\",\"ROM : 1 TB\")\n",
        "comp2 = computer(\"i7\",\"RAM: 10 GB\",\"ROM : 500 GB\")\n",
        "\n",
        "\n",
        "comp1.config()\n",
        "comp2.config()"
      ],
      "metadata": {
        "colab": {
          "base_uri": "https://localhost:8080/"
        },
        "id": "oyOhbHEL12BN",
        "outputId": "e68fe593-b5ec-4e66-ffbf-bb4ad034772d"
      },
      "execution_count": 11,
      "outputs": [
        {
          "output_type": "stream",
          "name": "stdout",
          "text": [
            "i5 RAM: 18 GB ROM : 1TB\n",
            "i5 RAM: 18 GB ROM : 1TB\n"
          ]
        }
      ]
    },
    {
      "cell_type": "code",
      "source": [
        "\n",
        "\n",
        "\n"
      ],
      "metadata": {
        "id": "cZR64g9z-gcN"
      },
      "execution_count": null,
      "outputs": []
    }
  ],
  "metadata": {
    "colab": {
      "provenance": [],
      "gpuType": "T4",
      "include_colab_link": true
    },
    "kernelspec": {
      "display_name": "Python 3",
      "name": "python3"
    },
    "accelerator": "GPU"
  },
  "nbformat": 4,
  "nbformat_minor": 0
}